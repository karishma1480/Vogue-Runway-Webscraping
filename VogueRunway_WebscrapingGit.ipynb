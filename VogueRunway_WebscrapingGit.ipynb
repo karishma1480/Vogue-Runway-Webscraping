{
 "cells": [
  {
   "cell_type": "code",
   "execution_count": null,
   "id": "0526a437",
   "metadata": {},
   "outputs": [],
   "source": [
    "from selenium import webdriver\n",
    "from selenium.webdriver.chrome.service import Service\n",
    "from selenium.webdriver.chrome.options import Options\n",
    "from selenium.webdriver.common.by import By\n",
    "from selenium.webdriver.support.ui import WebDriverWait\n",
    "from selenium.webdriver.support import expected_conditions as EC\n",
    "from selenium.common.exceptions import TimeoutException\n",
    "import requests\n",
    "import os\n",
    "import time\n",
    "from PIL import Image\n",
    "from bs4 import BeautifulSoup  # Import BeautifulSoup"
   ]
  },
  {
   "cell_type": "code",
   "execution_count": null,
   "id": "4891b007",
   "metadata": {},
   "outputs": [],
   "source": [
    "# Set up Chrome options\n",
    "options = Options()\n",
    "#options.add_argument('--headless')  \n",
    "options.add_argument('--no-sandbox')\n",
    "options.add_argument('--disable-dev-shm-usage')"
   ]
  },
  {
   "cell_type": "code",
   "execution_count": null,
   "id": "8af3e882",
   "metadata": {},
   "outputs": [],
   "source": [
    "# Initialize ChromeDriver\n",
    "service = Service('/opt/homebrew/Caskroom/chromedriver/127.0.6533.72/chromedriver-mac-arm64/chromedriver')\n",
    "driver = webdriver.Chrome(service=service, options=options)"
   ]
  },
  {
   "cell_type": "code",
   "execution_count": null,
   "id": "988e6cab",
   "metadata": {},
   "outputs": [],
   "source": [
    "def login_to_vogue(email, password):\n",
    "    # Open the login page\n",
    "    login_url = \"https://id.condenast.com/interaction/th29Mr4m8vZGCewhVVfB-/select-account?xid=9bec3edd-6a7a-4833-a26e-eb4951b3d28b&scope=openid%20offline_access&state=%7B%22redirectURL%22%3A%22%2Fnewsletter%2Frunway%22%7D&prompt=select_account%20consent&source=VERSO_NAVIGATION&client_id=condenast.identity.fbc9096dc61f9b79c5ac4c85998da075&redirect_uri=https%3A%2F%2Fwww.vogue.com%2Fauth%2Fcomplete&response_type=code\"  \n",
    "    driver.get(login_url)\n",
    "    \n",
    "    wait = WebDriverWait(driver, 20)\n",
    "    \n",
    "    # Debugging: Print page source to verify if the login fields are present\n",
    "    print(driver.page_source)\n",
    "    \n",
    "    username_field = wait.until(EC.presence_of_element_located((By.NAME, 'email')))\n",
    "    username_field.send_keys(email)\n",
    "    \n",
    "    \n",
    "    next_button = wait.until(EC.presence_of_element_located((By.XPATH, '//*[@id=\"email-continue-button\"]')))\n",
    "    next_button.click()\n",
    "\n",
    "    \n",
    "    # Wait for the password field to be visible and fill in the password\n",
    "    password_field = wait.until(EC.presence_of_element_located((By.ID, 'TextField-id-password')))\n",
    "    password_field.send_keys(password)\n",
    "    \n",
    "    \n",
    "    login_button = wait.until(EC.presence_of_element_located((By.XPATH, '//*[@id=\"log-in-sign-in-button\"]')))\n",
    "    login_button.click()\n",
    "    \n",
    "    # Wait for the login to complete and redirect\n",
    "    wait.until(EC.url_changes(login_url))  # Wait until the URL changes after login"
   ]
  },
  {
   "cell_type": "code",
   "execution_count": null,
   "id": "e5679bcc",
   "metadata": {},
   "outputs": [],
   "source": [
    "email = \"< enter registered email address here > \"\n",
    "password = \"< password >\""
   ]
  },
  {
   "cell_type": "code",
   "execution_count": null,
   "id": "1d2effbc",
   "metadata": {},
   "outputs": [],
   "source": [
    "# Log in to Vogue\n",
    "login_to_vogue(email, password)"
   ]
  },
  {
   "cell_type": "code",
   "execution_count": null,
   "id": "4e540bb9",
   "metadata": {},
   "outputs": [],
   "source": [
    "target_url = \"https://www.vogue.com/fashion-shows/resort-2025/gucci/slideshow/collection#1\"\n",
    "driver.get(target_url)"
   ]
  },
  {
   "cell_type": "code",
   "execution_count": null,
   "id": "1e2e8fbf",
   "metadata": {},
   "outputs": [],
   "source": [
    "print(\"Navigating to URL...\")\n",
    "driver.get(target_url)\n",
    "print(\"Page title:\", driver.title)"
   ]
  },
  {
   "cell_type": "code",
   "execution_count": null,
   "id": "b5a73dd1",
   "metadata": {},
   "outputs": [],
   "source": [
    "wait = WebDriverWait(driver, 120)  # Increase timeout\n",
    "main_container = wait.until(EC.presence_of_element_located((By.CSS_SELECTOR, '#main-content > div')))\n",
    "print(\"Main container found\")"
   ]
  },
  {
   "cell_type": "code",
   "execution_count": null,
   "id": "fb63aaac",
   "metadata": {},
   "outputs": [],
   "source": [
    "# Collect image elements with sequential CSS selectors\n",
    "image_elements = []\n",
    "number_of_images = 45\n",
    "#Create a directory to save images\n",
    "save_path = \"resort_2025_Gucci_images\"\n",
    "os.makedirs(save_path, exist_ok=True)"
   ]
  },
  {
   "cell_type": "code",
   "execution_count": null,
   "id": "ef56ae54",
   "metadata": {},
   "outputs": [],
   "source": [
    "# Function to resize an image\n",
    "def resize_image(image_path, max_size=(300, 300)):\n",
    "    with Image.open(image_path) as img:\n",
    "        img.thumbnail(max_size, Image.ANTIALIAS)\n",
    "        img.save(image_path)"
   ]
  },
  {
   "cell_type": "code",
   "execution_count": null,
   "id": "59f6e0c4",
   "metadata": {},
   "outputs": [],
   "source": [
    "## ANOTHER NEW ONE ###\n",
    "\n",
    "# Function to extract all image URLs from each set using BeautifulSoup\n",
    "def get_image_urls_using_bs4(page_source):\n",
    "    soup = BeautifulSoup(page_source, 'html.parser')\n",
    "    img_urls = []\n",
    "\n",
    "    # Find all the list items which represent the sets of images\n",
    "    image_sets = soup.select('li.ImageCollectionListItem-YjTJj.eOyRQu')  # This should match the sets\n",
    "\n",
    "    for image_set in image_sets:\n",
    "        # Select all images in the current set\n",
    "        img_elements = image_set.select('div.ZoomableWrapper-kJXWeT img')  # Select all images in the set\n",
    "        for img_element in img_elements:\n",
    "            # Extract URL from srcset or src\n",
    "            img_url = img_element.get('srcset') or img_element.get('src')\n",
    "            if img_url:\n",
    "                # Clean the URL if it's in srcset format (e.g., select the highest resolution URL)\n",
    "                img_url = img_url.split(',')[-1].strip().split(' ')[0] if ' ' in img_url else img_url\n",
    "                img_urls.append(img_url)\n",
    "    \n",
    "    print(f\"Extracted image URLs: {img_urls}\")  # Debug line to check extracted URLs\n",
    "    return img_urls"
   ]
  },
  {
   "cell_type": "code",
   "execution_count": null,
   "id": "09c3bc33",
   "metadata": {},
   "outputs": [],
   "source": [
    "# Function to click the \"Next\" button\n",
    "def click_next_button():\n",
    "    wait = WebDriverWait(driver, 30)  # Increase timeout if necessary\n",
    "    try:\n",
    "        print(\"Attempting to find the 'Next' button...\")\n",
    "        next_button = wait.until(EC.element_to_be_clickable((By.CSS_SELECTOR, '#main-content > div.RunwayDesktopGalleryWrapper-jHDjjy.czoxGK > div.GridWrapper-cAzTTK.jXvsWG.grid.grid-margins.grid-items-0.RunwayGalleryGridWrapper-cFBsPI.eVwxQs > div:nth-child(1) > div > div > div.StickyBoxPrimary-dzWDWL.cdhYoN.sticky-box__primary > div.RunwayGalleryLookNumberWrapper-dIlzYs.iJWreG > div:nth-child(3)')))\n",
    "        print(\"Found the 'Next' button. Clicking...\")\n",
    "        next_button.click()\n",
    "        print(\"Clicked the 'Next' button successfully.\")\n",
    "        \n",
    "        # Wait longer to ensure the new images load\n",
    "        time.sleep(10)  # Increase if needed\n",
    "\n",
    "        # Optionally, add a scroll here\n",
    "        scroll_vertically()\n",
    "\n",
    "    except TimeoutException:\n",
    "        print(\"Timeout: 'Next' button not clickable or not found.\")\n",
    "    except Exception as e:\n",
    "        print(f\"Failed to click the 'Next' button: {e}\")\n"
   ]
  },
  {
   "cell_type": "code",
   "execution_count": null,
   "id": "09a2a368",
   "metadata": {},
   "outputs": [],
   "source": [
    "#vertical scrolling to scroll through both the images under the main image\n",
    "def scroll_vertically():\n",
    "    driver.execute_script(\"window.scrollTo(0, document.body.scrollHeight);\")\n",
    "    time.sleep(5)"
   ]
  },
  {
   "cell_type": "code",
   "execution_count": null,
   "id": "78031c3d",
   "metadata": {},
   "outputs": [],
   "source": [
    "def wait_for_new_images_to_load():\n",
    "    # Wait for an element that signifies new images are loaded or content has changed\n",
    "    try:\n",
    "        WebDriverWait(driver, 40).until(EC.presence_of_element_located((By.XPATH, \"//*[@id='main-content']/div[2]/div[1]/div[2]/div/div/ul/li[1]/div[1]/div/span/picture/img\")))\n",
    "        print(\"New images loaded.\")\n",
    "    except TimeoutException:\n",
    "        print(\"Timeout: New images did not load.\")\n",
    "        "
   ]
  },
  {
   "cell_type": "code",
   "execution_count": null,
   "id": "6e33e878",
   "metadata": {},
   "outputs": [],
   "source": [
    "# Accumulate image URLs across all sets\n",
    "all_image_urls = set()  # Use a set to avoid duplicates\n",
    "downloaded_images = 0\n",
    "max_images = float('inf')  # To download all available images\n",
    "seen_image_urls = []  # To keep track of the last few sets of URLs\n",
    "repeat_threshold = 2  # Number of repeats before breaking loop\n",
    "consecutive_repeats = 0  # Counter for consecutive repeats\n",
    "\n",
    "while downloaded_images < max_images:\n",
    "    # Get the page source and parse it with BeautifulSoup\n",
    "    page_source = driver.page_source\n",
    "    image_urls = get_image_urls_using_bs4(page_source)\n",
    "\n",
    "    # Check if new URLs were found\n",
    "    if image_urls:\n",
    "        unique_image_urls = set(image_urls)\n",
    "        if unique_image_urls and not unique_image_urls.issubset(all_image_urls):\n",
    "            all_image_urls.update(unique_image_urls)\n",
    "            downloaded_images += len(unique_image_urls)  # Update count\n",
    "            \n",
    "            # Update the seen image sets\n",
    "            seen_image_urls.append(unique_image_urls)\n",
    "            if len(seen_image_urls) > 3:  # Keep only the last three sets\n",
    "                seen_image_urls.pop(0)\n",
    "            \n",
    "            # Check if the current set matches any of the last two sets\n",
    "            if seen_image_urls.count(unique_image_urls) > repeat_threshold:\n",
    "                print(\"Repeated the same set of images multiple times. Stopping.\")\n",
    "                break\n",
    "            \n",
    "            # Click the \"Next\" button to navigate to the next set of images\n",
    "            click_next_button()\n",
    "            wait_for_new_images_to_load()\n",
    "        else:\n",
    "            print(\"No new images found or repeated set.\")\n",
    "            consecutive_repeats += 1\n",
    "            if consecutive_repeats >= repeat_threshold:\n",
    "                print(\"Consecutive repeats threshold reached. Stopping.\")\n",
    "                break\n",
    "    else:\n",
    "        print(\"No image URLs found or no new images available.\")\n",
    "        break\n",
    "\n",
    "# After collecting all URLs, download images once\n",
    "print(f\"Total unique images to download: {len(all_image_urls)}\")"
   ]
  },
  {
   "cell_type": "code",
   "execution_count": null,
   "id": "dc665391",
   "metadata": {},
   "outputs": [],
   "source": [
    "# Function to download images\n",
    "def download_images(image_urls):\n",
    "    if not os.path.exists(save_path):\n",
    "        os.makedirs(save_path)\n",
    "    \n",
    "    for index, img_url in enumerate(image_urls):\n",
    "        try:\n",
    "            # Log the final image URL\n",
    "            print(f\"Final Image {index + 1} URL: {img_url}\")\n",
    "\n",
    "            # Validate the image URL\n",
    "            if not img_url.startswith('http'):\n",
    "                print(f\"Invalid URL: {img_url}\")\n",
    "                continue\n",
    "\n",
    "            # Define the image name and path\n",
    "            img_name = f\"image_{index + 1}.jpg\"\n",
    "            img_path = os.path.join(save_path, img_name)\n",
    "\n",
    "            # Download the image\n",
    "            response = requests.get(img_url, stream=True)\n",
    "            response.raise_for_status()  # Check for HTTP request errors\n",
    "\n",
    "            # Write the image to a file\n",
    "            with open(img_path, 'wb') as file:\n",
    "                for chunk in response.iter_content(chunk_size=1024):\n",
    "                    if chunk:\n",
    "                        file.write(chunk)\n",
    "            \n",
    "            print(f\"Image {index + 1} downloaded successfully\")\n",
    "\n",
    "        except requests.RequestException as e:\n",
    "            print(f\"Failed to download image {index + 1} due to a request error: {e}\")\n",
    "        except IOError as e:\n",
    "            print(f\"Failed to write image {index + 1} to disk: {e}\")\n",
    "        except Exception as e:\n",
    "            print(f\"Failed to download image {index + 1} due to an unexpected error: {e}\")\n",
    "\n",
    "# Call the download function\n",
    "download_images(list(all_image_urls))\n"
   ]
  },
  {
   "cell_type": "code",
   "execution_count": null,
   "id": "62d30b97",
   "metadata": {},
   "outputs": [],
   "source": []
  },
  {
   "cell_type": "code",
   "execution_count": null,
   "id": "898c5631",
   "metadata": {},
   "outputs": [],
   "source": []
  },
  {
   "cell_type": "code",
   "execution_count": null,
   "id": "c04fcfb8",
   "metadata": {},
   "outputs": [],
   "source": []
  }
 ],
 "metadata": {
  "kernelspec": {
   "display_name": "Python 3 (ipykernel)",
   "language": "python",
   "name": "python3"
  },
  "language_info": {
   "codemirror_mode": {
    "name": "ipython",
    "version": 3
   },
   "file_extension": ".py",
   "mimetype": "text/x-python",
   "name": "python",
   "nbconvert_exporter": "python",
   "pygments_lexer": "ipython3",
   "version": "3.10.7"
  }
 },
 "nbformat": 4,
 "nbformat_minor": 5
}
